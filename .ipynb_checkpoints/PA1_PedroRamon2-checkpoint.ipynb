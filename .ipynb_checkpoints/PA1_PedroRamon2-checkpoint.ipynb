{
 "cells": [
  {
   "cell_type": "code",
   "execution_count": null,
   "metadata": {},
   "outputs": [],
   "source": [
    "%load_ext rpy2.ipython"
   ]
  },
  {
   "cell_type": "markdown",
   "metadata": {},
   "source": [
    "---\n",
    "jupyter:\n",
    "  jupytext:\n",
    "    text_representation:\n",
    "      extension: .Rmd\n",
    "      format_name: rmarkdown\n",
    "      format_version: '1.0'\n",
    "      jupytext_version: 0.8.4\n",
    "  kernelspec:\n",
    "    display_name: R\n",
    "    language: R\n",
    "    name: ir\n",
    "  language_info:\n",
    "    codemirror_mode: r\n",
    "    file_extension: .r\n",
    "    mimetype: text/x-r-source\n",
    "    name: R\n",
    "    pygments_lexer: r\n",
    "    version: 3.4.3\n",
    "---\n",
    "\n",
    "---\n",
    "title: \"Reproducible Research: Peer Assessment 1\"\n",
    "author: \"Pedro Ramon Almeida Oiticica\"\n",
    "date: \"30 de outubro de 2018\"\n",
    "output: \n",
    "html_document:"
   ]
  },
  {
   "cell_type": "code",
   "execution_count": null,
   "metadata": {
    "attributes": {
     "classes": [],
     "id": "",
     "include": "FALSE"
    }
   },
   "outputs": [],
   "source": [
    "knitr::opts_chunk$set(echo = TRUE, message = FALSE,warning = FALSE)"
   ]
  },
  {
   "cell_type": "markdown",
   "metadata": {},
   "source": [
    "## Introduction\n",
    "\n",
    "It is now possible to collect a large amount of data about personal movement using activity monitoring devices such as a [Fitbit](http://www.fitbit.com/), [Nike Fuelband](http://www.nike.com/us/en_us/c/nikeplus-fuelband), or [Jawbone Up](https://jawbone.com/up). These type of devices are part of the \"quantified self\" movement - a group of enthusiasts who take measurements about themselves regularly to improve their health, to find patterns in their behavior, or because they are tech geeks. But these data remain under-utilized both because the raw data are hard to obtain and there is a lack of statistical methods and software for processing and interpreting the data.\n",
    "\n",
    "This assignment makes use of data from a personal activity monitoring device. This device collects data at 5 minute intervals through out the day. The data consists of two months of data from an anonymous individual collected during the months of October and November, 2012 and include the number of steps taken in 5 minute intervals each day.\n",
    "\n",
    "The data for this assignment can be downloaded from the web site:\n",
    "\n",
    "Dataset: [Activity monitoring data (52K)](https://d396qusza40orc.cloudfront.net/repdata%2Fdata%2Factivity.zip)\n",
    "\n",
    "The variables included in this dataset are:\n",
    "\n",
    "- steps: Number of steps taking in a 5-minute interval (missing values are coded as \\color{red}{\\verb|NA|}NA)\n",
    "- date: The date on which the measurement was taken in YYYY-MM-DD format\n",
    "- interval: Identifier for the 5-minute interval in which measurement was taken\n",
    "\n",
    "The dataset is stored in a comma-separated-value (CSV) file and there are a total of 17,568 observations in this dataset.\n",
    "\n",
    "\n",
    "## Loading and preprocessing the data\n",
    "\n",
    "1. Load the data.\n",
    "2. Process/transform the data into a suitable format.\n",
    "\n",
    "If you already forked and cloned the directoty from my github repository, the raw data file \"activity.zip\" is already included. Then it's not necessary to download it from the above link.\n",
    "\n",
    "\n",
    "**1. This code will unzip and load the data from the local zip file into RStudio.**"
   ]
  },
  {
   "cell_type": "code",
   "execution_count": null,
   "metadata": {},
   "outputs": [],
   "source": [
    "%%R\n",
    "activity<-read.csv(unz(\"activity.zip\", \"activity.csv\"),stringsAsFactors = FALSE)"
   ]
  },
  {
   "cell_type": "markdown",
   "metadata": {},
   "source": [
    "**2. Process/transform the data into a suitable format.**\n",
    "\n",
    "In the introduction we give informations about the raw dataset. The variables included in this data set are:\n",
    "\n",
    "- steps: Number of steps in a 5-minute interval (missing values are coded as NA)\n",
    "- date: The date in which  the measurement was taken in \"YYYY-MM-DD\" format.\n",
    "- interval: Identifier for the 5-minute in which measure was taken (int: HHMM:{0,5,10,15,...55,100,105,...,155,200,205,...,2355}).\n",
    "\n",
    "We can see a summary of the raw dataset using the code"
   ]
  },
  {
   "cell_type": "code",
   "execution_count": null,
   "metadata": {},
   "outputs": [],
   "source": [
    "%%R\n",
    "str(activity)"
   ]
  },
  {
   "cell_type": "markdown",
   "metadata": {},
   "source": [
    "we use the following code to process the raw data into a more suitable format."
   ]
  },
  {
   "cell_type": "code",
   "execution_count": null,
   "metadata": {},
   "outputs": [],
   "source": [
    "%%R\n",
    "# Convert the column date from a string type (chr) to a date format object.\n",
    "# Parse the interval values into a 4-digit HHMM, and into a date-time format (type \"Period\") using the functions FormatC(), sub() and the lubridate package. Its necessary to convert the class \"period\" (PISIXlt) into a POSIXct format using as_datetime() function because dplyr package do not work propelly with the class \"Period\" format in the filter, arrange,... functions.\n",
    "library(dplyr)\n",
    "library(lubridate)\n",
    "act<-activity%>%mutate(date=as.Date(date))%>%mutate(time=formatC(interval,width=4,flag=\"0\"))%>%mutate(time=sub(\"([[:digit:]]{2,2})$\", \":\\\\1\",time))%>%mutate(time=hm(time))%>%mutate(time=as_datetime(time))"
   ]
  },
  {
   "cell_type": "markdown",
   "metadata": {},
   "source": [
    "Let's take a look in out processed data set act."
   ]
  },
  {
   "cell_type": "code",
   "execution_count": null,
   "metadata": {},
   "outputs": [],
   "source": [
    "%%R\n",
    "head(act)\n",
    "str(act)"
   ]
  },
  {
   "cell_type": "markdown",
   "metadata": {},
   "source": [
    "_______________________________________________________________________\n",
    "\n",
    "\n",
    "## What is mean total number of steps taken per day?\n",
    "\n",
    "1. Calculate the total number of steps taken per day\n",
    "2. Make a histogram of the total number of steps taken each day (If you do not understand the difference between a histogram and a barplot, research the difference between them).\n",
    "3. Calculate and report the mean and median of the total number of steps taken per day"
   ]
  },
  {
   "cell_type": "code",
   "execution_count": null,
   "metadata": {},
   "outputs": [],
   "source": [
    "%%R\n",
    "stepsday<-act%>%group_by(date)%>%summarize(steps=sum(steps))"
   ]
  },
  {
   "cell_type": "markdown",
   "metadata": {},
   "source": [
    "Plot a histogram."
   ]
  },
  {
   "cell_type": "code",
   "execution_count": null,
   "metadata": {},
   "outputs": [],
   "source": [
    "%%R\n",
    "hist(stepsday$steps, breaks=20,\n",
    "     main=\"Histogram of total steps per day\",\n",
    "     xlab=\"steps per day\", col=\"blue\")"
   ]
  },
  {
   "cell_type": "markdown",
   "metadata": {},
   "source": [
    "Calculate the mean and median"
   ]
  },
  {
   "cell_type": "code",
   "execution_count": null,
   "metadata": {},
   "outputs": [],
   "source": [
    "%%R\n",
    "meansteps = mean(stepsday$steps,na.rm=TRUE)\n",
    "mediansteps = median(stepsday$steps,na.rm=TRUE)"
   ]
  },
  {
   "cell_type": "markdown",
   "metadata": {},
   "source": [
    "#### The *mean* and *median* total number of steps taken per day are: \n",
    "\n",
    "**mean** = **`r meansteps`**  \n",
    "**median** = **`r mediansteps`**\n",
    "\n",
    "________________________________________________________________________________\n",
    "\n",
    "\n",
    "## What is the average daily activity pattern?\n",
    "\n",
    "The average daily activity pattern shows the mean value of steps counted for each time interval along the measured days. It can give information of what are the moste active time of the day and the lowest active time of the day on average. To plot this pattern we use the following code."
   ]
  },
  {
   "cell_type": "code",
   "execution_count": null,
   "metadata": {},
   "outputs": [],
   "source": [
    "%%R\n",
    "library(ggplot2)\n",
    "library(scales)\n",
    "library(stringr)\n",
    "\n",
    "#Obtain the activity pattern by the average of the number of steps per #time-interval.\n",
    "actpattern<-act%>%group_by(interval)%>%\n",
    "        summarize(meansteps=mean(steps,na.rm=TRUE))%>%mutate(time=formatC(interval,width=4,flag=\"0\"))%>%mutate(time=sub(\"([[:digit:]]{2,2})$\",\":\\\\1\",time))%>%mutate(time=hm(time))%>%mutate(time=as_datetime(time))\n",
    "\n",
    "#Calculate the most active time and the average number of steps that corresponsd to it.\n",
    "MaxAvgSteps=max(actpattern$meansteps)\n",
    "MostActiveTime<-with(actpattern,time[which(meansteps==MaxAvgSteps)])\n",
    "\n",
    "#plot the activity pattern\n",
    "ggplot(data=actpattern,aes(x=time,y=meansteps))+geom_line()+\n",
    "        scale_x_datetime(breaks=date_breaks(\"120 mins\"),\n",
    "                         labels=date_format(\"%H:%M\"))+\n",
    "        theme_bw()+\n",
    "        labs(title=\"Averaged daily activity pattern\")+\n",
    "        labs(x=\"time (hh:mm)\")+\n",
    "        labs(y=\"Agerage of steps\")+\n",
    "        geom_vline(xintercept = MostActiveTime,col=\"red\",lty=2,lwd=1)+\n",
    "        geom_text(aes(x=MostActiveTime,y=MaxAvgSteps),\n",
    "                  label=str_c(\"Max_Avg_Steps = \",formatC(MaxAvgSteps,digits=4)),\n",
    "                  colour=\"blue\", angle=0,vjust=1.0,hjust=-0.1)+\n",
    "        geom_text(aes(x=MostActiveTime,y=MaxAvgSteps),\n",
    "                  label=str_c(\"Time = \", format(MostActiveTime,\"%H:%M\")),\n",
    "                  colour=\"blue\",angle=0,vjust = 2.5,hjust=-0.2)"
   ]
  },
  {
   "cell_type": "markdown",
   "metadata": {},
   "source": [
    "The maximum number of steps averaged across all the days in the dataset is centered at the time `r format(MostActiveTime,\"%H:%M\")`. The maximum of the activity occurs between 8:00 ans 9:00 hours.\n",
    "\n",
    "\n",
    "## Imputing missing values\n",
    "\n",
    "Note that there are a number of days/intervals where there are missing values (coded as <span style=\"color:red\">NA</span>). The presence of missing days may introduce bias into some calculations or summaries of the data.\n",
    "\n",
    "Here we perform some exploratory analysis and propose a method to overcome the absense of data in some rows of our original data. We wil do the following.\n",
    "\n",
    "1. Calculate and report the total number of missing values in the dataset (i.e the total number of rows with NAs)\n",
    "2. Devise a strategy for filling in all the missing values in the data. \n",
    "3. Create a new dataset that is equal to the original but with the missing data filled in.\n",
    "4. Make a histogram of the total number of steps taken per day.\n",
    "5. Compare the new exploratoy analyse results obtained and the histogram obtained with that obtainet in the first part of this assignment. We also discuss the impact of imputing data on the estimates of the total daily number of steps.\n",
    "\n",
    "Let's check the missing values NAs in our data set."
   ]
  },
  {
   "cell_type": "code",
   "execution_count": null,
   "metadata": {},
   "outputs": [],
   "source": [
    "%%R\n",
    "summarize_all(act,funs(sum(is.na(.))))"
   ]
  },
  {
   "cell_type": "markdown",
   "metadata": {},
   "source": [
    "We can devise a strategy for filling in all of the missing values in the dataset. when we what to create a methode or strategy to atribute values, we first try to find some pattern in the dataset that can me used as an indicator or to rule a matematical and statiscital modeling.\n",
    "\n",
    "\n",
    "Let's beguin by list the dates for whitch steps are NAs."
   ]
  },
  {
   "cell_type": "code",
   "execution_count": null,
   "metadata": {},
   "outputs": [],
   "source": [
    "%%R\n",
    "nadates<-act%>%filter(is.na(steps))%>%mutate(weekday=weekdays(date))%>%select(date,weekday)%>%unique()%>%print()\n"
   ]
  },
  {
   "cell_type": "markdown",
   "metadata": {},
   "source": [
    "The above table shows the dates and the corresponding weekdays for which the steps aren't measured. We can't see any pattern of weekdays in the above table. To fill in the missing values on the column steps for these dates, we can use the average values of the steps for each time interval that we previously obtained and showed in the above graph of daily activity pattern. We consider here that the steps pattern do not change considerably with the weekday.\n",
    "\n",
    "We use the folowing code to fill in the missing values in the column steps of our dataset."
   ]
  },
  {
   "cell_type": "code",
   "execution_count": null,
   "metadata": {},
   "outputs": [],
   "source": [
    "%%R\n",
    "# Divide the data set in two parts with and without NAs values.\n",
    "notNAact<-act%>%filter(!is.na(steps))\n",
    "\n",
    "naact<-act%>%filter(is.na(steps))\n",
    "\n",
    "# Create a collumn with the averaged values in the propelly orther to be atributed for the NAs values according to our filling in method.\n",
    "\n",
    "index<-match(naact$interval,actpattern$interval)\n",
    "fillNAStepCol<-actpattern$meansteps[index]\n",
    "\n",
    "# Filling the NA values.\n",
    "naact<-naact%>%mutate(fillvalues=fillNAStepCol)\n",
    "filledact<-naact%>%mutate(steps=fillvalues)%>%select(.,-fillvalues)\n",
    "\n",
    "# Merge the two datasets\n",
    "act2<-arrange(rbind(filledact,notNAact),date,time)\n"
   ]
  },
  {
   "cell_type": "markdown",
   "metadata": {},
   "source": [
    "we created a new dataset called act2 using our method of filling in missing values on the variable steps. This dataset is equal to the original but with the missing data filled in. To check if our method is reasonable let's plot a histogram of the total steps taken per day on the filled in dataset and compare the result with the histogram obtained with the original data."
   ]
  },
  {
   "cell_type": "code",
   "execution_count": null,
   "metadata": {},
   "outputs": [],
   "source": [
    "%%R\n",
    "require(dplyr)\n",
    "require(ggplot2)\n",
    "\n",
    "# Calculate the total number of steps taken per day\n",
    "stepsday2<-act2%>%group_by(date)%>%summarize(steps=sum(steps))%>%mutate(dataset=\"filled\")\n",
    "stepsday1<-stepsday%>%mutate(dataset=\"original\")\n",
    "\n",
    "stepsday3<-arrange(rbind(stepsday1,stepsday2),date)\n",
    "\n",
    "ggplot(stepsday3, aes(steps, fill = dataset)) + geom_histogram(alpha =0.7, aes(y = ..density..), position = 'identity')+ scale_fill_brewer(palette = \"Set1\")+\n",
    "        labs(title=\"Histogram original vs manipulated datasets\")+\n",
    "        labs(x=\"Total Steps\")+\n",
    "        labs(y=\"Frequency\")\n"
   ]
  },
  {
   "cell_type": "markdown",
   "metadata": {},
   "source": [
    "We calculate and report the mean and median of the total number of steps taken per day."
   ]
  },
  {
   "cell_type": "code",
   "execution_count": null,
   "metadata": {},
   "outputs": [],
   "source": [
    "%%R\n",
    "meansteps2 = mean(stepsday2$steps,na.rm=TRUE)\n",
    "mediansteps2 = median(stepsday2$steps,na.rm=TRUE)"
   ]
  },
  {
   "cell_type": "markdown",
   "metadata": {},
   "source": [
    "The *mean* and *median* total number of steps taken per day are compared here: \n",
    "\n",
    "For the original dataser we have **mean** = **`r meansteps`**, and **median** = **`r mediansteps`**.\n",
    "\n",
    "For the filled in dataset we have **mean2** = **`r meansteps2`**, and **median2** = **`r mediansteps2`**.\n",
    "\n",
    "With these results, we can conclude that our method for filling the absent values in the column steps is reasonable, because the change in the statistical distribution is not significant. The frequency of the mean value increases because we atrubuted for the missing value days the average value os steps.\n",
    "\n",
    "\n",
    "\n",
    "## Are there differences in activity patterns between weekdays and weekends?\n",
    "\n",
    "1. Create a new factor variable in the dataset with two levels - \"weekday\"\n",
    "and \"weekend\" indicating whether a given date is a weekday or weekend\n",
    "day."
   ]
  },
  {
   "cell_type": "code",
   "execution_count": null,
   "metadata": {},
   "outputs": [],
   "source": [
    "%%R\n",
    "act<-act%>%mutate(day=weekdays(date))%>%mutate(type=ifelse(day==\"s?bado\" | day==\"domingo\",\"weekend\",\"weekday\"))\n",
    "\n",
    "act2<-act2%>%mutate(day=weekdays(date))%>%mutate(type=ifelse(day==\"s?bado\" | day==\"domingo\",\"weekend\",\"weekday\"))"
   ]
  },
  {
   "cell_type": "markdown",
   "metadata": {},
   "source": [
    "2. Make a panel plot containing a time series plot (i.e. type = \"l\") of the\n",
    "5-minute interval (x-axis) and the average number of steps taken, averaged\n",
    "across all weekday days or weekend days (y-axis)."
   ]
  },
  {
   "cell_type": "code",
   "execution_count": null,
   "metadata": {},
   "outputs": [],
   "source": [
    "%%R\n",
    "#Obtain the activity pattern by the average of the number of steps for each\n",
    "#time-interval for the two datasets and for the two types of days, weekdays\n",
    "#and weekends.\n",
    "\n",
    "require(lubridate)\n",
    "\n",
    "actpattern1<-act%>%group_by(type, interval)%>%summarize(meansteps=mean(steps,na.rm=TRUE))%>%ungroup()%>%mutate(time=formatC(interval,width=4,flag=\"0\"))%>%mutate(time=sub(\"([[:digit:]]{2,2})$\",\":\\\\1\",time))%>%mutate(time=hm(time))%>%mutate(time=as_datetime(time))%>%mutate(dataset=\"Original\")\n",
    "\n",
    "\n",
    "actpattern2<-act2%>%group_by(type,interval)%>%summarize(meansteps=mean(steps,na.rm=TRUE))%>%ungroup()%>%mutate(time=formatC(interval,width=4,flag=\"0\"))%>%mutate(time=sub(\"([[:digit:]]{2,2})$\",\":\\\\1\",time))%>%mutate(time=hm(time))%>%mutate(time=as_datetime(time))%>%mutate(dataset=\"Filled\")\n",
    "\n",
    "actpattern3<-rbind(actpattern1,actpattern2)\n",
    "\n",
    "\n",
    "#Calculate the most active time and the average number of steps that corresponsd to it.\n",
    "MaxAvgSteps=max(actpattern1$meansteps)\n",
    "MostActiveTime<-with(actpattern1,time[which(meansteps==MaxAvgSteps)])\n",
    "\n",
    "#plot the activity pattern\n",
    "myplot<-ggplot(data=actpattern3,aes(x=time,y=meansteps, colour=type))+geom_line()+ facet_grid(dataset ~ .)+\n",
    "        scale_x_datetime(breaks=date_breaks(\"120 mins\"),\n",
    "                         labels=date_format(\"%H:%M\"))+\n",
    "        theme_bw()+\n",
    "        labs(title=\"Averaged daily activity pattern\")+\n",
    "        labs(x=\"time (hh:mm)\")+\n",
    "        labs(y=\"Agerage of steps\")\n",
    "        \n",
    "\n",
    "plot(myplot)\n"
   ]
  },
  {
   "cell_type": "markdown",
   "metadata": {},
   "source": [
    "The diffference beteew the original and filled data set is barely perceptible. Alltough there are a significant difference pattern on the steps for weekday ans weekends. The differences can be explained by the activities that are, on avarege different. During the weekdays the person wake up earlyer and do not walk so much in the afternoon, maybe his/her job is on an office. O weekends the person wake up later and walks more at afternoon, maybe he/she enjoy the weekend with sport activies."
   ]
  }
 ],
 "metadata": {},
 "nbformat": 4,
 "nbformat_minor": 2
}
